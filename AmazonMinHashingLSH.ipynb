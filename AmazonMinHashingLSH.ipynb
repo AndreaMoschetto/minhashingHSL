{
  "nbformat": 4,
  "nbformat_minor": 0,
  "metadata": {
    "colab": {
      "provenance": [],
      "collapsed_sections": [
        "l-vL1oUHr4qs",
        "yLzhElbSsdw1"
      ],
      "mount_file_id": "12YB-XfcC7_cXMvG1wkbDsT-qCSdEMSvl",
      "authorship_tag": "ABX9TyP3U6eeVFqml12pAIQx2eBV",
      "include_colab_link": true
    },
    "kernelspec": {
      "name": "python3",
      "display_name": "Python 3"
    },
    "language_info": {
      "name": "python"
    }
  },
  "cells": [
    {
      "cell_type": "markdown",
      "metadata": {
        "id": "view-in-github",
        "colab_type": "text"
      },
      "source": [
        "<a href=\"https://colab.research.google.com/github/AndreaMoschetto/minhashingHSL/blob/main/AmazonMinHashingLSH.ipynb\" target=\"_parent\"><img src=\"https://colab.research.google.com/assets/colab-badge.svg\" alt=\"Open In Colab\"/></a>"
      ]
    },
    {
      "cell_type": "markdown",
      "source": [
        "# Exercise on MinHashing HSL with Amazon reviews dataset\n",
        "stud: **Andrea Moschetto**"
      ],
      "metadata": {
        "id": "Z6dUbwYLqjeC"
      }
    },
    {
      "cell_type": "markdown",
      "source": [
        "## Libraries\n"
      ],
      "metadata": {
        "id": "l-vL1oUHr4qs"
      }
    },
    {
      "cell_type": "code",
      "source": [
        "# spark general\n",
        "import pyspark\n",
        "from pyspark.mllib import *\n",
        "from pyspark.sql import *\n",
        "from pyspark.sql.functions import *\n",
        "from pyspark import SparkContext, SparkConf\n",
        "from pyspark.ml.linalg import Vectors\n",
        "from pyspark.sql.functions import col, count\n",
        "from pyspark.sql.functions import udf\n",
        "\n",
        "\n",
        "# google drive api\n",
        "from google.colab import drive\n",
        "\n",
        "# .tar file extraction\n",
        "import tarfile\n",
        "import os\n",
        "\n",
        "# data preparation\n",
        "from pyspark.sql.functions import concat_ws, lower, col\n",
        "from pyspark.sql.functions import trim\n",
        "\n",
        "# models\n",
        "from pyspark.ml.feature import CountVectorizer\n",
        "from pyspark.ml.feature import MinHashLSH"
      ],
      "metadata": {
        "id": "GYHJ-jP8-tRq"
      },
      "execution_count": null,
      "outputs": []
    },
    {
      "cell_type": "markdown",
      "source": [
        "## Utils Functions"
      ],
      "metadata": {
        "id": "yLzhElbSsdw1"
      }
    },
    {
      "cell_type": "code",
      "source": [
        "def load_dataset(data_path: str, name: str, limit_num: int):\n",
        "  df = spark.read.csv(data_path)\n",
        "  df = df.withColumnRenamed('_c0', 'polarity').withColumnRenamed('_c1', 'title').withColumnRenamed('_c2', 'text')\n",
        "\n",
        "  df.show(5)\n",
        "  if limit_num > 0:\n",
        "    print(f'{name} limited to {limit_num} units')\n",
        "    return df.limit(limit_num)\n",
        "  print('Using the whole dataset')\n",
        "  return df\n"
      ],
      "metadata": {
        "id": "W7tIthna_DP6"
      },
      "execution_count": null,
      "outputs": []
    },
    {
      "cell_type": "code",
      "source": [
        "def data_preparation(df, name: str):\n",
        "  # concat title e text\n",
        "  df = df.withColumn('full_text',\n",
        "    lower(concat_ws(\" \", col(\"title\"), col(\"text\"))))\n",
        "\n",
        "  # remove special characters and numbers\n",
        "  df = df.withColumn(\n",
        "      \"full_text\",\n",
        "      regexp_replace(col(\"full_text\"), \"[^a-zA-Z\\s]\", \"\")  # solo lettere e spazi\n",
        "  )\n",
        "\n",
        "  # normalize multiple blank spaces\n",
        "  df = df.withColumn(\n",
        "      \"full_text\",\n",
        "      regexp_replace(trim(col(\"full_text\")), \"\\s+\", \" \")  # spazi singoli\n",
        "  )\n",
        "  print(f'PREPARED {name}')\n",
        "  df.show(5)\n",
        "  return df"
      ],
      "metadata": {
        "id": "wM7aHsx-sivl"
      },
      "execution_count": null,
      "outputs": []
    },
    {
      "cell_type": "code",
      "source": [
        "\n",
        "def q_shingle(text, q=3):\n",
        "    return [text[i:i+q] for i in range(len(text) - q + 1)] if text else []\n",
        "q_shingle_udf = udf(q_shingle, ArrayType(StringType()))"
      ],
      "metadata": {
        "id": "XWPw0tGt-ghD"
      },
      "execution_count": null,
      "outputs": []
    },
    {
      "cell_type": "markdown",
      "source": [
        "## Extract dataset"
      ],
      "metadata": {
        "id": "NaHRfUTFr9J2"
      }
    },
    {
      "cell_type": "code",
      "source": [
        "drive.mount('/content/drive')"
      ],
      "metadata": {
        "colab": {
          "base_uri": "https://localhost:8080/"
        },
        "id": "AH0McbJu8In7",
        "outputId": "1ca08334-2746-40e5-ee3e-5e12f10aaa21"
      },
      "execution_count": null,
      "outputs": [
        {
          "output_type": "stream",
          "name": "stdout",
          "text": [
            "Drive already mounted at /content/drive; to attempt to forcibly remount, call drive.mount(\"/content/drive\", force_remount=True).\n"
          ]
        }
      ]
    },
    {
      "cell_type": "code",
      "execution_count": null,
      "metadata": {
        "id": "JR40pjAcgEDY",
        "colab": {
          "base_uri": "https://localhost:8080/"
        },
        "outputId": "9ae85f0e-9f5d-454c-bafb-a1e879476bd8"
      },
      "outputs": [
        {
          "output_type": "stream",
          "name": "stdout",
          "text": [
            "Estrazione completata.\n",
            "Contenuto estratto:\n",
            "['amazon_review_polarity_csv', 'amazon_review_polarity_csv/train.csv', 'amazon_review_polarity_csv/readme.txt', 'amazon_review_polarity_csv/test.csv']\n"
          ]
        }
      ],
      "source": [
        "# Download it from: https://www.kaggle.com/datasets/kritanjalijain/amazon-reviews\n",
        "tar_path = '/content/drive/MyDrive/Bigdata/datasets/amazon_review_polarity_csv.tar'\n",
        "\n",
        "\n",
        "if tarfile.is_tarfile(tar_path):\n",
        "    with tarfile.open(tar_path) as tar:\n",
        "        tar.extractall()\n",
        "        print(\"Estrazione completata.\")\n",
        "        # Lista dei file estratti\n",
        "        print(\"Contenuto estratto:\")\n",
        "        print(tar.getnames())\n",
        "else:\n",
        "    print(\"Il file non è un archivio .tar valido.\")"
      ]
    },
    {
      "cell_type": "code",
      "source": [
        "!ls amazon_review_polarity_csv/"
      ],
      "metadata": {
        "colab": {
          "base_uri": "https://localhost:8080/"
        },
        "id": "hmfZbjsxBP0m",
        "outputId": "78a06176-bb52-49cb-9e7c-d95aa3f1dc56"
      },
      "execution_count": null,
      "outputs": [
        {
          "output_type": "stream",
          "name": "stdout",
          "text": [
            "readme.txt  test.csv  train.csv\n"
          ]
        }
      ]
    },
    {
      "cell_type": "markdown",
      "source": [
        "## Spark session"
      ],
      "metadata": {
        "id": "tvH3Rk9BsCHT"
      }
    },
    {
      "cell_type": "code",
      "source": [
        "\n",
        "conf = SparkConf().set(\"spark.ui.port\", \"4050\")\n",
        "\n",
        "\n",
        "sc = pyspark.SparkContext(conf=conf)\n",
        "spark = SparkSession.builder.getOrCreate()"
      ],
      "metadata": {
        "id": "KINp3LH--8cO"
      },
      "execution_count": null,
      "outputs": []
    },
    {
      "cell_type": "markdown",
      "source": [
        "## CONFIGS\n"
      ],
      "metadata": {
        "id": "mnCkqwXO6Gx3"
      }
    },
    {
      "cell_type": "code",
      "source": [
        "TRAIN_UNITS = 100000\n",
        "TEST_UNITS = 10000"
      ],
      "metadata": {
        "id": "Y5oWyBnW6Ko-"
      },
      "execution_count": null,
      "outputs": []
    },
    {
      "cell_type": "markdown",
      "source": [
        "## TRAIN"
      ],
      "metadata": {
        "id": "PeRV-7bguyll"
      }
    },
    {
      "cell_type": "markdown",
      "source": [
        "### Data Preparation"
      ],
      "metadata": {
        "id": "qjVuAAQ6sTfC"
      }
    },
    {
      "cell_type": "markdown",
      "source": [
        "I create a new column containing concat of title and text in lower case"
      ],
      "metadata": {
        "id": "XgGRMI65XBcy"
      }
    },
    {
      "cell_type": "code",
      "source": [
        "data_path='amazon_review_polarity_csv/train.csv'\n",
        "df_train = load_dataset(data_path=data_path, name='TRAIN_SET', limit_num=TRAIN_UNITS)\n",
        "df_train = data_preparation(df_train, 'TRAIN_SET')"
      ],
      "metadata": {
        "colab": {
          "base_uri": "https://localhost:8080/"
        },
        "id": "uXjqdCbt-cyO",
        "outputId": "7f187f84-e34e-4098-942d-2c1777d7c328"
      },
      "execution_count": null,
      "outputs": [
        {
          "output_type": "stream",
          "name": "stdout",
          "text": [
            "+--------+--------------------+--------------------+\n",
            "|polarity|               title|                text|\n",
            "+--------+--------------------+--------------------+\n",
            "|       2|Stuning even for ...|This sound track ...|\n",
            "|       2|The best soundtra...|I'm reading a lot...|\n",
            "|       2|            Amazing!|\"This soundtrack ...|\n",
            "|       2|Excellent Soundtrack|I truly like this...|\n",
            "|       2|Remember, Pull Yo...|If you've played ...|\n",
            "+--------+--------------------+--------------------+\n",
            "only showing top 5 rows\n",
            "\n",
            "TRAIN_SET limited to 100000 units\n",
            "PREPARED TRAIN_SET\n",
            "+--------+--------------------+--------------------+--------------------+\n",
            "|polarity|               title|                text|           full_text|\n",
            "+--------+--------------------+--------------------+--------------------+\n",
            "|       2|Stuning even for ...|This sound track ...|stuning even for ...|\n",
            "|       2|The best soundtra...|I'm reading a lot...|the best soundtra...|\n",
            "|       2|            Amazing!|\"This soundtrack ...|amazing this soun...|\n",
            "|       2|Excellent Soundtrack|I truly like this...|excellent soundtr...|\n",
            "|       2|Remember, Pull Yo...|If you've played ...|remember pull you...|\n",
            "+--------+--------------------+--------------------+--------------------+\n",
            "only showing top 5 rows\n",
            "\n"
          ]
        }
      ]
    },
    {
      "cell_type": "markdown",
      "source": [
        "### Shingles"
      ],
      "metadata": {
        "id": "e4PCYFB1XUjL"
      }
    },
    {
      "cell_type": "code",
      "source": [
        "df_shingled = df_train.withColumn(\"shingles\", q_shingle_udf(\"full_text\"))\n",
        "df_shingled.show(5)"
      ],
      "metadata": {
        "colab": {
          "base_uri": "https://localhost:8080/"
        },
        "id": "zxajFSdiHQ2i",
        "outputId": "42b0fae2-7456-438e-cdc9-ee23c4767d09"
      },
      "execution_count": null,
      "outputs": [
        {
          "output_type": "stream",
          "name": "stdout",
          "text": [
            "+--------+--------------------+--------------------+--------------------+--------------------+\n",
            "|polarity|               title|                text|           full_text|            shingles|\n",
            "+--------+--------------------+--------------------+--------------------+--------------------+\n",
            "|       2|Stuning even for ...|This sound track ...|stuning even for ...|[stu, tun, uni, n...|\n",
            "|       2|The best soundtra...|I'm reading a lot...|the best soundtra...|[the, he , e b,  ...|\n",
            "|       2|            Amazing!|\"This soundtrack ...|amazing this soun...|[ama, maz, azi, z...|\n",
            "|       2|Excellent Soundtrack|I truly like this...|excellent soundtr...|[exc, xce, cel, e...|\n",
            "|       2|Remember, Pull Yo...|If you've played ...|remember pull you...|[rem, eme, mem, e...|\n",
            "+--------+--------------------+--------------------+--------------------+--------------------+\n",
            "only showing top 5 rows\n",
            "\n"
          ]
        }
      ]
    },
    {
      "cell_type": "markdown",
      "source": [
        "### One-Hot creation\n",
        "A sparse matrix of 0 and 1\n"
      ],
      "metadata": {
        "id": "OmEoas8d4R4z"
      }
    },
    {
      "cell_type": "code",
      "source": [
        "\n",
        "# Initialize CountVectorizer to do binary (one-hot-like) encoding\n",
        "cv = CountVectorizer(inputCol=\"shingles\", outputCol=\"raw_features\", binary=True)\n",
        "\n",
        "# Fit the model on DataFrame\n",
        "onehot_model = cv.fit(df_shingled)\n",
        "\n",
        "# Transform the DataFrame to get the binary vector\n",
        "df_vectorized = onehot_model.transform(df_shingled)\n",
        "df_vectorized.show(5)"
      ],
      "metadata": {
        "colab": {
          "base_uri": "https://localhost:8080/"
        },
        "id": "caufySG--MC6",
        "outputId": "82135da2-f828-4b3a-8047-2e98a168c6c7"
      },
      "execution_count": null,
      "outputs": [
        {
          "output_type": "stream",
          "name": "stdout",
          "text": [
            "+--------+--------------------+--------------------+--------------------+--------------------+--------------------+\n",
            "|polarity|               title|                text|           full_text|            shingles|        raw_features|\n",
            "+--------+--------------------+--------------------+--------------------+--------------------+--------------------+\n",
            "|       2|Stuning even for ...|This sound track ...|stuning even for ...|[stu, tun, uni, n...|(13188,[0,1,2,3,4...|\n",
            "|       2|The best soundtra...|I'm reading a lot...|the best soundtra...|[the, he , e b,  ...|(13188,[0,1,2,3,4...|\n",
            "|       2|            Amazing!|\"This soundtrack ...|amazing this soun...|[ama, maz, azi, z...|(13188,[0,1,2,3,4...|\n",
            "|       2|Excellent Soundtrack|I truly like this...|excellent soundtr...|[exc, xce, cel, e...|(13188,[0,1,2,3,4...|\n",
            "|       2|Remember, Pull Yo...|If you've played ...|remember pull you...|[rem, eme, mem, e...|(13188,[0,1,2,3,4...|\n",
            "+--------+--------------------+--------------------+--------------------+--------------------+--------------------+\n",
            "only showing top 5 rows\n",
            "\n"
          ]
        }
      ]
    },
    {
      "cell_type": "markdown",
      "source": [
        "### Hashes\n"
      ],
      "metadata": {
        "id": "-7EwphVeXaTJ"
      }
    },
    {
      "cell_type": "code",
      "source": [
        "\n",
        "\n",
        "minhash = MinHashLSH(inputCol=\"raw_features\", outputCol=\"hashes\", numHashTables=5)\n",
        "minhash_model = minhash.fit(df_vectorized)\n",
        "df_hashed = minhash_model.transform(df_vectorized)\n",
        "print('TRAINING_SET HASHES')\n",
        "df_hashed.show(5)"
      ],
      "metadata": {
        "colab": {
          "base_uri": "https://localhost:8080/"
        },
        "id": "T2eWVEcbIbm2",
        "outputId": "8581bc14-acd8-4e5f-efb3-18aa6c3ccff5"
      },
      "execution_count": null,
      "outputs": [
        {
          "output_type": "stream",
          "name": "stdout",
          "text": [
            "TRAINING_SET HASHES\n",
            "+--------+--------------------+--------------------+--------------------+--------------------+--------------------+--------------------+\n",
            "|polarity|               title|                text|           full_text|            shingles|        raw_features|              hashes|\n",
            "+--------+--------------------+--------------------+--------------------+--------------------+--------------------+--------------------+\n",
            "|       2|Stuning even for ...|This sound track ...|stuning even for ...|[stu, tun, uni, n...|(13188,[0,1,2,3,4...|[[717723.0], [155...|\n",
            "|       2|The best soundtra...|I'm reading a lot...|the best soundtra...|[the, he , e b,  ...|(13188,[0,1,2,3,4...|[[5527257.0], [79...|\n",
            "|       2|            Amazing!|\"This soundtrack ...|amazing this soun...|[ama, maz, azi, z...|(13188,[0,1,2,3,4...|[[717723.0], [155...|\n",
            "|       2|Excellent Soundtrack|I truly like this...|excellent soundtr...|[exc, xce, cel, e...|(13188,[0,1,2,3,4...|[[717723.0], [155...|\n",
            "|       2|Remember, Pull Yo...|If you've played ...|remember pull you...|[rem, eme, mem, e...|(13188,[0,1,2,3,4...|[[1847422.0], [15...|\n",
            "+--------+--------------------+--------------------+--------------------+--------------------+--------------------+--------------------+\n",
            "only showing top 5 rows\n",
            "\n"
          ]
        }
      ]
    },
    {
      "cell_type": "markdown",
      "source": [
        "## TEST"
      ],
      "metadata": {
        "id": "uzTEvvmmv33f"
      }
    },
    {
      "cell_type": "markdown",
      "source": [
        "### Data preparation"
      ],
      "metadata": {
        "id": "XWiPrlX0qCmH"
      }
    },
    {
      "cell_type": "code",
      "source": [
        "data_path='amazon_review_polarity_csv/test.csv'\n",
        "df_test = load_dataset(data_path=data_path, name='TEST_SET', limit_num=TEST_UNITS)\n",
        "df_test = data_preparation(df_test, 'TEST_SET')"
      ],
      "metadata": {
        "id": "g0-o7RYIJK3y",
        "colab": {
          "base_uri": "https://localhost:8080/"
        },
        "outputId": "6ad9bf99-179c-4c04-f75a-c797c4b59152"
      },
      "execution_count": null,
      "outputs": [
        {
          "output_type": "stream",
          "name": "stdout",
          "text": [
            "+--------+--------------------+--------------------+\n",
            "|polarity|               title|                text|\n",
            "+--------+--------------------+--------------------+\n",
            "|       2|            Great CD|\"My lovely Pat ha...|\n",
            "|       2|One of the best g...|Despite the fact ...|\n",
            "|       1|Batteries died wi...|I bought this cha...|\n",
            "|       2|works fine, but M...|Check out Maha En...|\n",
            "|       2|Great for the non...|Reviewed quite a ...|\n",
            "+--------+--------------------+--------------------+\n",
            "only showing top 5 rows\n",
            "\n",
            "TEST_SET limited to 10000 units\n",
            "PREPARED TEST_SET\n",
            "+--------+--------------------+--------------------+--------------------+\n",
            "|polarity|               title|                text|           full_text|\n",
            "+--------+--------------------+--------------------+--------------------+\n",
            "|       2|            Great CD|\"My lovely Pat ha...|great cd my lovel...|\n",
            "|       2|One of the best g...|Despite the fact ...|one of the best g...|\n",
            "|       1|Batteries died wi...|I bought this cha...|batteries died wi...|\n",
            "|       2|works fine, but M...|Check out Maha En...|works fine but ma...|\n",
            "|       2|Great for the non...|Reviewed quite a ...|great for the non...|\n",
            "+--------+--------------------+--------------------+--------------------+\n",
            "only showing top 5 rows\n",
            "\n"
          ]
        }
      ]
    },
    {
      "cell_type": "markdown",
      "source": [
        "### Inference with fitted model\n"
      ],
      "metadata": {
        "id": "7CFr_3_gqJzV"
      }
    },
    {
      "cell_type": "code",
      "source": [
        "df_test_shingled = df_test.withColumn(\"shingles\", q_shingle_udf(\"full_text\"))\n",
        "df_test_vectorized = onehot_model.transform(df_test_shingled)\n",
        "df_test_hashed = minhash_model.transform(df_test_vectorized)\n",
        "print('TEST_SET HASHES')\n",
        "df_test_hashed.show(5)"
      ],
      "metadata": {
        "colab": {
          "base_uri": "https://localhost:8080/"
        },
        "id": "6iWTeJyFiFmU",
        "outputId": "f8e6cf01-fd51-4451-8945-0bd6dbe5a75d"
      },
      "execution_count": null,
      "outputs": [
        {
          "output_type": "stream",
          "name": "stdout",
          "text": [
            "TEST_SET HASHES\n",
            "+--------+--------------------+--------------------+--------------------+--------------------+--------------------+--------------------+\n",
            "|polarity|               title|                text|           full_text|            shingles|        raw_features|              hashes|\n",
            "+--------+--------------------+--------------------+--------------------+--------------------+--------------------+--------------------+\n",
            "|       2|            Great CD|\"My lovely Pat ha...|great cd my lovel...|[gre, rea, eat, a...|(13188,[0,1,2,3,4...|[[717723.0], [196...|\n",
            "|       2|One of the best g...|Despite the fact ...|one of the best g...|[one, ne , e o,  ...|(13188,[0,1,2,3,4...|[[1847422.0], [15...|\n",
            "|       1|Batteries died wi...|I bought this cha...|batteries died wi...|[bat, att, tte, t...|(13188,[0,1,2,3,4...|[[1847422.0], [91...|\n",
            "|       2|works fine, but M...|Check out Maha En...|works fine but ma...|[wor, ork, rks, k...|(13188,[0,1,3,4,5...|[[717723.0], [196...|\n",
            "|       2|Great for the non...|Reviewed quite a ...|great for the non...|[gre, rea, eat, a...|(13188,[0,1,2,3,4...|[[717723.0], [196...|\n",
            "+--------+--------------------+--------------------+--------------------+--------------------+--------------------+--------------------+\n",
            "only showing top 5 rows\n",
            "\n"
          ]
        }
      ]
    },
    {
      "cell_type": "code",
      "source": [
        "# Find most frequent polarity\n",
        "majority_polarity = df_test.groupBy(\"polarity\").count().orderBy(col(\"count\").desc()).first()[\"polarity\"]\n",
        "\n",
        "# Take one row that has majority polarity\n",
        "key_row = df_test_hashed.filter(col(\"polarity\") == majority_polarity).limit(1)\n",
        "key_text = key_row.select('text').collect()\n",
        "print(f'polarità più frequente: {majority_polarity}')\n",
        "print(f'key_text = {key_text}')\n"
      ],
      "metadata": {
        "id": "Dx_xZOw-JWXO",
        "colab": {
          "base_uri": "https://localhost:8080/"
        },
        "outputId": "2a7c2d10-6500-46f0-ec89-8a9acd3f8f78"
      },
      "execution_count": null,
      "outputs": [
        {
          "output_type": "stream",
          "name": "stdout",
          "text": [
            "polarità più frequente: 2\n",
            "key_text = [Row(text='\"My lovely Pat has one of the GREAT voices of her generation. I have listened to this CD for YEARS and I still LOVE IT. When I\\'m in a good mood it makes me feel better. A bad mood just evaporates like sugar in the rain. This CD just oozes LIFE. Vocals are jusat STUUNNING and lyrics just kill. One of life\\'s hidden gems. This is a desert isle CD in my book. Why she never made it big is just beyond me. Everytime I play this, no matter black, white, young, old, male, female EVERYBODY says one thing \"\"Who was that singing ?\"\"\"')]\n"
          ]
        }
      ]
    },
    {
      "cell_type": "code",
      "source": [
        "key_features = key_row.select(\"raw_features\").collect()[0][\"raw_features\"]\n",
        "\n",
        "# Find the 3 nearest neighbours to the key datapoint\n",
        "neighbors = minhash_model.approxNearestNeighbors(df_test_hashed, key_features, 3)\n",
        "\n",
        "neighbors.select(\"polarity\",\"distCol\", \"text\").show(truncate=False)\n"
      ],
      "metadata": {
        "colab": {
          "base_uri": "https://localhost:8080/"
        },
        "id": "G-5u_GBKTCVP",
        "outputId": "c7d56109-cddb-42ec-b849-890af30261ff"
      },
      "execution_count": null,
      "outputs": [
        {
          "output_type": "stream",
          "name": "stdout",
          "text": [
            "+--------+------------------+-------------------------------------------------------------------------------------------------------------------------------------------------------------------------------------------------------------------------------------------------------------------------------------------------------------------------------------------------------------------------------------------------------------------------------------------------------------------------------------------------------------------------------------------------------------------------------------------------------------------------------------------------------------------------------------------------------------------------------+\n",
            "|polarity|distCol           |text                                                                                                                                                                                                                                                                                                                                                                                                                                                                                                                                                                                                                                                                                                                           |\n",
            "+--------+------------------+-------------------------------------------------------------------------------------------------------------------------------------------------------------------------------------------------------------------------------------------------------------------------------------------------------------------------------------------------------------------------------------------------------------------------------------------------------------------------------------------------------------------------------------------------------------------------------------------------------------------------------------------------------------------------------------------------------------------------------+\n",
            "|2       |0.0               |\"My lovely Pat has one of the GREAT voices of her generation. I have listened to this CD for YEARS and I still LOVE IT. When I'm in a good mood it makes me feel better. A bad mood just evaporates like sugar in the rain. This CD just oozes LIFE. Vocals are jusat STUUNNING and lyrics just kill. One of life's hidden gems. This is a desert isle CD in my book. Why she never made it big is just beyond me. Everytime I play this, no matter black, white, young, old, male, female EVERYBODY says one thing \"\"Who was that singing ?\"\"\"                                                                                                                                                                                |\n",
            "|2       |0.7063339731285989|This is such a good movie I can't believe it is not for sale! I have to agree with the other viewers that it took me back a few years but boy did it make me feel good. They should definetly release this again! My husband got tired of paying for rentals for this movie so he found it for me on an Internet auction site. Everytime I say that I want to watch it he says oh that again but I think he secretly likes it just as much as I do. After seeing this movie it is no wonder why Julia is such a big star.                                                                                                                                                                                                      |\n",
            "|1       |0.7282229965156795|My favorite chapter in this book would definitely be the first chapter when the kids are introduced on the island. There was this one kid that everyone had called piggy. To me that is the funniest thing in the world. I don't know why but the humiliation of another kid is extremely hilarious. It may seem cruel but to me it's funny. I would have to say that this book was definitely for the older more mature kids, like high school kids. All in all I would have to say that even with the kid getting humiliated I dislike this book with a passion it is way to boring and just when you think it's going to get good the book disappoints you and I don't think that is a very good book for the serious reader|\n",
            "+--------+------------------+-------------------------------------------------------------------------------------------------------------------------------------------------------------------------------------------------------------------------------------------------------------------------------------------------------------------------------------------------------------------------------------------------------------------------------------------------------------------------------------------------------------------------------------------------------------------------------------------------------------------------------------------------------------------------------------------------------------------------------+\n",
            "\n"
          ]
        }
      ]
    },
    {
      "cell_type": "code",
      "source": [
        "# sc.stop()"
      ],
      "metadata": {
        "id": "YXjl3Q95Ri7j"
      },
      "execution_count": null,
      "outputs": []
    }
  ]
}